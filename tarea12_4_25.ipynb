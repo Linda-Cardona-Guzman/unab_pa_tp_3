{
  "nbformat": 4,
  "nbformat_minor": 0,
  "metadata": {
    "colab": {
      "provenance": [],
      "authorship_tag": "ABX9TyOVhHZ0Mvzeea7oP9AQIdLS",
      "include_colab_link": true
    },
    "kernelspec": {
      "name": "python3",
      "display_name": "Python 3"
    },
    "language_info": {
      "name": "python"
    }
  },
  "cells": [
    {
      "cell_type": "markdown",
      "metadata": {
        "id": "view-in-github",
        "colab_type": "text"
      },
      "source": [
        "<a href=\"https://colab.research.google.com/github/Linda-Cardona-Guzman/unab_pa_tp_3/blob/main/tarea12_4_25.ipynb\" target=\"_parent\"><img src=\"https://colab.research.google.com/assets/colab-badge.svg\" alt=\"Open In Colab\"/></a>"
      ]
    },
    {
      "cell_type": "code",
      "execution_count": null,
      "metadata": {
        "id": "0i4y-UHOeHqU"
      },
      "outputs": [],
      "source": [
        "#--------------------------\n",
        "#ejercicio 2.\n",
        "\n",
        "class punto:\n",
        "    def __init__(self,x,y):\n",
        "        self.x=x\n",
        "        self.y=y\n",
        "\n",
        "    def eje_x(self):\n",
        "        return f\"x: {self.x}\"\n",
        "\n",
        "    def eje_y(self):\n",
        "        return f\"y: {self.y}\"\n",
        "\n",
        "    def impresion(self):\n",
        "        print(f\"({self.x}; {self.y})\")\n",
        "\n",
        "    def opuesto(self):\n",
        "        p_nuevo = punto(-self.x, -self.y)\n",
        "        return p_nuevo.impresion()\n",
        "\n"
      ]
    },
    {
      "cell_type": "code",
      "source": [
        "p1 = punto(4, 7)\n",
        "p1.eje_x()\n",
        "p1.eje_y()\n",
        "p1.impresion()\n",
        "p1.opuesto()\n",
        "\n",
        "p2 = punto(10, 3)\n",
        "p2.eje_x()\n",
        "p2.eje_y()\n",
        "p2.impresion()\n",
        "p2.opuesto()"
      ],
      "metadata": {
        "colab": {
          "base_uri": "https://localhost:8080/"
        },
        "id": "R5KNRBIjgB05",
        "outputId": "2fb4e861-c47a-4e2a-9573-86f2de95d969"
      },
      "execution_count": null,
      "outputs": [
        {
          "output_type": "stream",
          "name": "stdout",
          "text": [
            "(4; 7)\n",
            "(-4; -7)\n",
            "(10; 3)\n",
            "(-10; -3)\n"
          ]
        }
      ]
    },
    {
      "cell_type": "code",
      "source": [
        "#--------------------------\n",
        "#ejercicio 3.\n",
        "\n",
        "class linea():\n",
        "    def __init__(self, _punto_a, _punto_b):\n",
        "        self._punto_a = _punto_a\n",
        "        self._punto_b = _punto_b\n",
        "\n",
        "    def mueve_derecha(self, cantidad:float):\n",
        "        self._punto_a.x += cantidad\n",
        "        self._punto_b.x += cantidad\n",
        "\n",
        "    def mueve_izquierda(self, cantidad:float):\n",
        "        self._punto_a.x -= cantidad\n",
        "        self._punto_b.x -= cantidad\n",
        "\n",
        "    def mueve_arriba(self, cantidad:float):\n",
        "        self._punto_a.y += cantidad\n",
        "        self._punto_b.y += cantidad\n",
        "\n",
        "    def mueve_abajo(self, cantidad:float):\n",
        "        self._punto_a.y -= cantidad\n",
        "        self._punto_b.y -= cantidad"
      ],
      "metadata": {
        "id": "AQQTUuKhhNPJ"
      },
      "execution_count": null,
      "outputs": []
    },
    {
      "cell_type": "code",
      "source": [
        "l1 = linea(p1, p2)\n",
        "l1._punto_a.impresion()\n",
        "l1._punto_b.impresion()\n",
        "print(\"-----------------\")\n",
        "\n",
        "l1.mueve_izquierda(5)\n",
        "l1._punto_a.impresion()\n",
        "l1._punto_b.impresion()\n",
        "\n",
        "l1.mueve_arriba(7)\n",
        "l1._punto_a.impresion()\n",
        "l1._punto_b.impresion()"
      ],
      "metadata": {
        "colab": {
          "base_uri": "https://localhost:8080/"
        },
        "id": "dfXDoB8DhNBq",
        "outputId": "51cee409-f4d1-4805-d3f7-f62095af6984"
      },
      "execution_count": null,
      "outputs": [
        {
          "output_type": "stream",
          "name": "stdout",
          "text": [
            "(4; 7)\n",
            "(10; 3)\n",
            "-----------------\n",
            "(-1; 7)\n",
            "(5; 3)\n",
            "(-1; 14)\n",
            "(5; 10)\n"
          ]
        }
      ]
    },
    {
      "cell_type": "code",
      "source": [
        "#--------------------------\n",
        "#ejercicio 4.\n",
        "\n",
        "#clase persona\n",
        "class persona:\n",
        "    def __init__(self, nombre:str, apellido: str, edad:int, vive:bool, cumple:str):\n",
        "        self.nombre = nombre\n",
        "        self.apellido = apellido\n",
        "        self.edad = edad\n",
        "        self.vive = vive\n",
        "        self.cumple = cumple\n",
        "\n",
        "    def nombre_completo(self):\n",
        "        return f\"{self.nombre} {self.apellido}\"\n",
        "\n",
        "\n",
        "#clase cancion\n",
        "class cancion:\n",
        "    def __init__(self, _titulo, _autor):\n",
        "        self._titulo = _titulo\n",
        "        self._autor = _autor\n",
        "\n",
        "    def get_titulo(self):\n",
        "        return self._titulo\n",
        "\n",
        "    def get_author(self):\n",
        "        return self._autor.nombre_completo()\n",
        "\n",
        "    def set_titulo(self, ntitulo:str):\n",
        "        self._titulo = ntitulo\n",
        "\n",
        "    def set_author(self, nautor:str):\n",
        "        self._autor = nautor\n",
        "\n",
        "    def __str__(self):\n",
        "        return f\"{self._titulo} - {self._autor.nombre_completo()}\""
      ],
      "metadata": {
        "id": "p-CgKeUshQ1R"
      },
      "execution_count": null,
      "outputs": []
    },
    {
      "cell_type": "code",
      "source": [
        "print(\"-----class persona-----\")\n",
        "per1 = persona(\"que\", \"so\", 16, True, \"11/11\")\n",
        "print(per1.nombre_completo())\n",
        "\n",
        "per2 = persona(\"e\", \"a\", 35, True, \"6/3\")\n",
        "print(per2.nombre_completo())\n",
        "\n",
        "#----------------------\n",
        "print(\"\\n-----class cancion-----\")\n",
        "\n",
        "c1 = cancion(\"aaa\", per2)\n",
        "\n",
        "print(c1.get_author())\n",
        "print(c1.get_titulo())\n",
        "c1.set_author(per1)\n",
        "c1.set_titulo(\"eee\")\n",
        "print(c1)\n"
      ],
      "metadata": {
        "colab": {
          "base_uri": "https://localhost:8080/"
        },
        "id": "pJjlpN_HhRdp",
        "outputId": "c19875c9-541b-4a16-e9c0-7ad46f3bf64a"
      },
      "execution_count": null,
      "outputs": [
        {
          "output_type": "stream",
          "name": "stdout",
          "text": [
            "-----class persona-----\n",
            "que so\n",
            "e a\n",
            "\n",
            "-----class cancion-----\n",
            "e a\n",
            "aaa\n",
            "eee - que so\n"
          ]
        }
      ]
    },
    {
      "cell_type": "code",
      "source": [
        "#--------------------------\n",
        "#ejercicio 5.\n",
        "\n",
        "class libro:\n",
        "    def __init__(self, _titulo, _autor, _isbn, _paginas:int, _edicion, _editorial, _lugar, _f_edicicion):\n",
        "        self._titulo = _titulo\n",
        "        self._autor = _autor\n",
        "        self._isbn = _isbn\n",
        "        self._paginas = _paginas\n",
        "        self._edicion = _edicion\n",
        "        self._editorial = _editorial\n",
        "        self._lugar = _lugar\n",
        "        self._f_edicion = _f_edicicion\n",
        "\n",
        "    #getters\n",
        "    def get_titulo(self):\n",
        "        return self._titulo\n",
        "    def get_author(self):\n",
        "        return self._autor\n",
        "    def get_isbn(self):\n",
        "        return self._isbn\n",
        "    def get_paginas(self):\n",
        "        return self._paginas\n",
        "    def get_edicion(self):\n",
        "        return self._edicion\n",
        "    def get_editorial(self):\n",
        "        return self._editorial\n",
        "    def get_lugar(self):\n",
        "        return self._lugar\n",
        "    def get_f_edicion(self):\n",
        "        return self._f_edicion\n",
        "\n",
        "    #setters\n",
        "    def set_titulo(self, ntitulo):\n",
        "        self._titulo = ntitulo\n",
        "    def set_author(self, nautor):\n",
        "        self._autor = nautor\n",
        "    def set_paginas(self, npags):\n",
        "        self._paginas = npags\n",
        "    def set_edicion(self, nedicion):\n",
        "        self._edicion = nedicion\n",
        "    def set_editorial(self, neditorial):\n",
        "        self._editorial= neditorial\n",
        "    def set_lugar(self, nlugar):\n",
        "        self._lugar = nlugar\n",
        "    def set_f_edicion(self, nfedicion):\n",
        "        self._f_edicion = nfedicion\n",
        "\n",
        "    #mostrar info\n",
        "    def __str__(self):\n",
        "        return f\"\"\"Titulo: {self.get_titulo()} {self.get_edicion()} edición\n",
        "Autor: {self.get_author()}\n",
        "ISBN: {self._isbn}\n",
        "{self.get_editorial()}, {self.get_lugar()}\n",
        "{self.get_f_edicion()}\n",
        "{self.get_paginas()} páginas\n",
        "\"\"\""
      ],
      "metadata": {
        "id": "GkdtPjQWhRrX"
      },
      "execution_count": null,
      "outputs": []
    },
    {
      "cell_type": "code",
      "source": [
        "libro1 = libro(\"Introduction to Java Programming\", \"l\", \"0-13-031997-X\", 784, \"3a.\", \"Prentice Hall\", \"New Jersey(USA)\", \"viernes 16 de noviembre de 2001\")\n",
        "libro1.get_titulo()\n",
        "libro1.get_author()\n",
        "libro1.set_author(\"Liang, Y. Daniel\")\n",
        "print(libro1)\n",
        "\n",
        "libro2 = libro(\"La Captura\", \"Kathryn Lasky\", \"978-84-666-2887-7\", 265, \"2a.\",\"Ediciones B\",\"Bailén, 84 -08009 Barcelona(España)\",\"Julio de 2010\")\n",
        "libro2.get_titulo()\n",
        "libro2.get_author()\n",
        "print(libro2)"
      ],
      "metadata": {
        "colab": {
          "base_uri": "https://localhost:8080/"
        },
        "id": "mpsfeHDnhU83",
        "outputId": "2cbfb999-22e1-4b76-c653-5d1295f13c47"
      },
      "execution_count": null,
      "outputs": [
        {
          "output_type": "stream",
          "name": "stdout",
          "text": [
            "Titulo: Introduction to Java Programming 3a. edición\n",
            "Autor: l\n",
            "ISBN: 0-13-031997-X\n",
            "Prentice Hall, New Jersey(USA)\n",
            "viernes 16 de noviembre de 2001\n",
            "784 páginas\n",
            "\n",
            "Titulo: La Captura 2a. edición\n",
            "Autor: Kathryn Lasky\n",
            "ISBN: 978-84-666-2887-7\n",
            "Ediciones B, Bailén, 84 -08009 Barcelona(España)\n",
            "Julio de 2010\n",
            "265 páginas\n",
            "\n"
          ]
        }
      ]
    }
  ]
}